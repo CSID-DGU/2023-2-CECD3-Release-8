{
  "nbformat": 4,
  "nbformat_minor": 0,
  "metadata": {
    "colab": {
      "provenance": [],
      "authorship_tag": "ABX9TyOeZYKiAFaddAhmmYmw56Iw",
      "include_colab_link": true
    },
    "kernelspec": {
      "name": "python3",
      "display_name": "Python 3"
    },
    "language_info": {
      "name": "python"
    }
  },
  "cells": [
    {
      "cell_type": "markdown",
      "metadata": {
        "id": "view-in-github",
        "colab_type": "text"
      },
      "source": [
        "<a href=\"https://colab.research.google.com/github/doSeung11/2023-2-CECD3-Release-8/blob/main/motion01.ipynb\" target=\"_parent\"><img src=\"https://colab.research.google.com/assets/colab-badge.svg\" alt=\"Open In Colab\"/></a>"
      ]
    },
    {
      "cell_type": "code",
      "execution_count": null,
      "metadata": {
        "id": "82FRdFMfirn2"
      },
      "outputs": [],
      "source": [
        "!sudo pip install librosa"
      ]
    },
    {
      "cell_type": "code",
      "source": [
        "import numpy as np\n",
        "import librosa.display, librosa\n",
        "times = []\n",
        "end_time = 0\n",
        "def checkSound():\n",
        "    global end_time\n",
        "    file = '휘모리휘모리3.wav'\n",
        "    y, sr = librosa.load(file)\n",
        "\n",
        "    onset_env = librosa.onset.onset_strength(y=y, sr=sr,\n",
        "                                            hop_length=512,\n",
        "                                            aggregate=np.median)\n",
        "    peaks = librosa.util.peak_pick(onset_env, pre_max=10, post_max=10, pre_avg=10, post_avg=10, delta=10, wait=5)\n",
        "    peaks = [peak for peak in peaks if peak*0.02205 > 4]\n",
        "    Time = librosa.times_like(onset_env, sr=sr, hop_length=512)\n",
        "    end_time = int(round(Time[-1],1)*10)\n",
        "\n",
        "    for p in peaks:\n",
        "      times.append(round(Time[p], 1))\n",
        "    print(times)\n",
        "\n",
        "    ret = {\n",
        "        \"peaks\": peaks\n",
        "    }\n",
        "    return ret\n",
        "\n",
        "tmp = checkSound()\n",
        "print(tmp)\n",
        "print(end_time)"
      ],
      "metadata": {
        "colab": {
          "base_uri": "https://localhost:8080/"
        },
        "id": "H8iU5v--8qvD",
        "outputId": "81974504-5530-4aae-dcc2-24063eca3fe6"
      },
      "execution_count": 11,
      "outputs": [
        {
          "output_type": "stream",
          "name": "stdout",
          "text": [
            "[5.2, 6.0, 7.0, 7.8, 8.8, 10.4]\n",
            "{'peaks': [222, 258, 301, 337, 377, 448]}\n",
            "104\n"
          ]
        }
      ]
    },
    {
      "cell_type": "code",
      "source": [
        "times = [int(times[i]*10) for i in range(len(times))]\n",
        "#print(times)"
      ],
      "metadata": {
        "id": "sc8e5tCjZr2M"
      },
      "execution_count": 12,
      "outputs": []
    },
    {
      "cell_type": "code",
      "source": [
        "import json\n",
        "\n",
        "p_time = []\n",
        "le_y = []\n",
        "lw_y = []\n",
        "re_y = []\n",
        "rw_x = []\n",
        "rw_y = []\n",
        "\n",
        "with open('휘모리휘모리3.json') as file:\n",
        "  datas = json.load(file)  # datas[0]이 전체 좌표값\n",
        "\n",
        "  for i, data in enumerate(datas):  #없으면 전 값 그대로 채우기\n",
        "\n",
        "    p_time.append(int(data[0]['time']//100))\n",
        "\n",
        "    if 'le' in data[0].keys() : le_y.append(data[0]['le']['y'])\n",
        "    else :\n",
        "      if i==0 : le_y.append(435)\n",
        "      else : le_y.append(le_y[-1])\n",
        "\n",
        "    if 'lw' in data[0].keys() : lw_y.append(data[0]['lw']['y'])\n",
        "    else :\n",
        "      if i==0 : lw_y.append(515)\n",
        "      else : lw_y.append(lw_y[-1])\n",
        "\n",
        "    if 're' in data[0].keys() : re_y.append(data[0]['re']['y'])\n",
        "    else :\n",
        "      if i==0: re_y.append(470)\n",
        "      else : re_y.append(re_y[-1])\n",
        "\n",
        "    if 'rw' in data[0].keys() : rw_x.append(data[0]['rw']['x'])\n",
        "    else :\n",
        "      if i==0 : rw_x.append(0)\n",
        "      else : rw_x.append(rw_x[-1])\n",
        "\n",
        "    if 'rw' in data[0].keys() : rw_y.append(data[0]['rw']['y'])\n",
        "    else :\n",
        "      if i==0 : rw_y.append(515)\n",
        "      else : rw_y.append(rw_y[-1])\n",
        "\n",
        "print(p_time)\n",
        "\n",
        "com_time = p_time[-1] - end_time\n",
        "print(end_time)\n",
        "print(com_time)\n",
        "\n",
        "while True:\n",
        "  if p_time[0] <= com_time:\n",
        "    p_time.pop(0)\n",
        "    le_y.pop(0)\n",
        "    lw_y.pop(0)\n",
        "    re_y.pop(0)\n",
        "    rw_x.pop(0)\n",
        "    rw_y.pop(0)\n",
        "  else:\n",
        "    break\n",
        "\n",
        "print(p_time)\n",
        "print(len(le_y), len(lw_y), len(re_y), len(rw_x), len(rw_y))"
      ],
      "metadata": {
        "colab": {
          "base_uri": "https://localhost:8080/"
        },
        "id": "-mmQZYBV81JC",
        "outputId": "bede029c-7c0b-46c5-80dd-f06825ebd381"
      },
      "execution_count": 13,
      "outputs": [
        {
          "output_type": "stream",
          "name": "stdout",
          "text": [
            "[0, 0, 1, 1, 2, 2, 3, 3, 4, 4, 9, 9, 10, 11, 11, 12, 12, 13, 13, 14, 14, 14, 15, 15, 16, 16, 17, 17, 18, 18, 19, 19, 20, 20, 20, 21, 22, 22, 22, 23, 23, 24, 24, 24, 25, 26, 26, 26, 27, 27, 28, 28, 29, 29, 29, 30, 30, 31, 31, 32, 32, 33, 33, 34, 34, 35, 35, 36, 36, 36, 37, 37, 38, 38, 39, 39, 40, 40, 41, 41, 42, 42, 43, 43, 44, 44, 45, 45, 46, 46, 47, 47, 48, 48, 49, 49, 50, 50, 50, 51, 51, 52, 52, 53, 53, 54, 54, 55, 55, 56, 56, 57, 57, 57, 58, 58, 59, 59, 60, 60, 61, 61, 62, 62, 63, 63, 64, 64, 65, 65, 66, 66, 67, 67, 68, 68, 69, 69, 70, 70, 70, 71, 71, 72, 72, 73, 73, 74, 74, 75, 75, 76, 76, 77, 77, 78, 78, 79, 79, 79, 80, 81, 81, 82, 82, 82, 83, 83, 84, 84, 85, 85, 86, 86, 87, 87, 87, 88, 89, 89, 90, 90, 91, 91, 91, 92, 92, 93, 93, 94, 94, 95, 95, 96, 96, 97, 97, 97, 98, 99, 99, 100, 100, 101, 101, 101, 102, 102, 103, 103, 104, 104, 105, 105, 106, 106, 107, 107, 108, 108, 109, 109, 110, 110, 110, 111, 111, 112, 112, 113, 113, 114, 114]\n",
            "104\n",
            "10\n",
            "[11, 11, 12, 12, 13, 13, 14, 14, 14, 15, 15, 16, 16, 17, 17, 18, 18, 19, 19, 20, 20, 20, 21, 22, 22, 22, 23, 23, 24, 24, 24, 25, 26, 26, 26, 27, 27, 28, 28, 29, 29, 29, 30, 30, 31, 31, 32, 32, 33, 33, 34, 34, 35, 35, 36, 36, 36, 37, 37, 38, 38, 39, 39, 40, 40, 41, 41, 42, 42, 43, 43, 44, 44, 45, 45, 46, 46, 47, 47, 48, 48, 49, 49, 50, 50, 50, 51, 51, 52, 52, 53, 53, 54, 54, 55, 55, 56, 56, 57, 57, 57, 58, 58, 59, 59, 60, 60, 61, 61, 62, 62, 63, 63, 64, 64, 65, 65, 66, 66, 67, 67, 68, 68, 69, 69, 70, 70, 70, 71, 71, 72, 72, 73, 73, 74, 74, 75, 75, 76, 76, 77, 77, 78, 78, 79, 79, 79, 80, 81, 81, 82, 82, 82, 83, 83, 84, 84, 85, 85, 86, 86, 87, 87, 87, 88, 89, 89, 90, 90, 91, 91, 91, 92, 92, 93, 93, 94, 94, 95, 95, 96, 96, 97, 97, 97, 98, 99, 99, 100, 100, 101, 101, 101, 102, 102, 103, 103, 104, 104, 105, 105, 106, 106, 107, 107, 108, 108, 109, 109, 110, 110, 110, 111, 111, 112, 112, 113, 113, 114, 114]\n",
            "220 220 220 220 220\n"
          ]
        }
      ]
    },
    {
      "cell_type": "code",
      "source": [
        "jangdan_num = 2\n",
        "jangdan = []\n",
        "if jangdan_num == 0 : jangdan = ['덩', '덩', '덕', '쿵', '덕']  #세마치\n",
        "elif jangdan_num == 1 : jangdan = ['덩', '덕', '쿵', '덕', '덕', '쿵', '쿵', '덕', '쿵', '쿵']  #중중모리\n",
        "elif jangdan_num == 2 : jangdan = ['덩', '덕', '덕', '쿵', '덕', '쿵']  #휘모리\n",
        "elif jangdan_num == 3 : jangdan = ['덩', '덕', '쿵', '덕', '쿵', '덩', '덕', '쿵', '덕', '쿵']  #굿거리\n",
        "elif jangdan_num == 4 : jangdan = ['덩', '덕', '쿵', '덕', '쿵', '덕', '쿵', '덕']  #자진모리\n"
      ],
      "metadata": {
        "id": "2Qu3Jq3r16RR"
      },
      "execution_count": 14,
      "outputs": []
    },
    {
      "cell_type": "code",
      "source": [
        "response = []\n",
        "cnt = -1\n",
        "print(jangdan)\n",
        "i = 0\n",
        "for idx, time in enumerate(times):  #장단 구음 수만큼 반복문 진행\n",
        "  if idx >= len(jangdan) : break  #피크 타임들에서 장단 개수 넘어갈 때부터는 패스\n",
        "\n",
        "  print(time)\n",
        "  le_y_max, lw_y_max, re_y_max, rw_x_max, rw_y_max = 0, 0, 0, 0, 0\n",
        "  le_y_min, lw_y_min, re_y_min, rw_x_min, rw_y_min = 1000, 1000, 1000, 1000, 1000\n",
        "  cnt = cnt+1\n",
        "\n",
        "  while True:  #각 구음에 대하여 관절의 최대 및 최소 구하기\n",
        "\n",
        "    while True:  #인덱스값 조정\n",
        "      kung_check = False #쿵 체크 변수\n",
        "      duck_check = False #덕 체크 변수\n",
        "      right_check = True  #오른손 체크 변수\n",
        "      if p_time[i] < time-4:  #인덱스값 time 앞으로\n",
        "        i = i+1\n",
        "      else: break\n",
        "\n",
        "    print('index: '+str(i)+' '+str(p_time[i]))\n",
        "\n",
        "    if p_time[i] >= time-4 and p_time[i] < time+4:\n",
        "      if le_y_max < le_y[i] : le_y_max = le_y[i] #왼쪽 팔꿈치\n",
        "      if le_y_min > le_y[i] : le_y_min = le_y[i]\n",
        "      if lw_y_max < lw_y[i] : lw_y_max = lw_y[i] #왼쪽 팔목\n",
        "      if lw_y_min > lw_y[i] : lw_y_min = lw_y[i]\n",
        "      if re_y_max < re_y[i] : re_y_max = re_y[i] #오른쪽 팔꿈치\n",
        "      if re_y_min > re_y[i] : re_y_min = re_y[i]\n",
        "      if rw_x_max < rw_x[i] : rw_x_max = rw_x[i] #오른쪽 팔목\n",
        "      if rw_x_min > rw_x[i] : rw_x_min = rw_x[i]\n",
        "      if rw_y_max < rw_y[i] : rw_y_max = rw_y[i]\n",
        "      if rw_y_min > rw_y[i] : rw_y_min = rw_y[i]\n",
        "      if rw_y[i] < re_y[i] : right_check = False  #덕 체크\n",
        "      i = i+1\n",
        "    else: break\n",
        "\n",
        "  if right_check and (rw_x_max - rw_x_min > 60) : duck_check = True\n",
        "  if (le_y_min < lw_y_max) and (le_y_min > lw_y_min) : kung_check = True\n",
        "\n",
        "  if jangdan[cnt] == '쿵':\n",
        "    print(rw_x_max, rw_x_min)\n",
        "    print(lw_y_max, lw_y_min, le_y_min)\n",
        "    if kung_check and (not duck_check) : response.append(True)\n",
        "    else : response.append(False)\n",
        "  elif jangdan[cnt] == '덕':\n",
        "    print(rw_x_max, rw_x_min)\n",
        "    if (not kung_check) and duck_check : response.append(True)\n",
        "    else : response.append(False)\n",
        "  elif jangdan[cnt] == '덩':\n",
        "    print(rw_x_max, rw_x_min)\n",
        "    print(lw_y_max, lw_y_min, le_y_min)\n",
        "    if kung_check and duck_check : response.append(True)\n",
        "    else : response.append(False)\n",
        "  i = i-10\n",
        "  print()"
      ],
      "metadata": {
        "colab": {
          "base_uri": "https://localhost:8080/"
        },
        "id": "nrCP8hfqOS29",
        "outputId": "b82d0625-56ac-42fd-9b8c-010e5025701b"
      },
      "execution_count": 15,
      "outputs": [
        {
          "output_type": "stream",
          "name": "stdout",
          "text": [
            "['덩', '덕', '덕', '쿵', '덕', '쿵']\n",
            "52\n",
            "index: 79 48\n",
            "index: 80 48\n",
            "index: 81 49\n",
            "index: 82 49\n",
            "index: 83 50\n",
            "index: 84 50\n",
            "index: 85 50\n",
            "index: 86 51\n",
            "index: 87 51\n",
            "index: 88 52\n",
            "index: 89 52\n",
            "index: 90 53\n",
            "index: 91 53\n",
            "index: 92 54\n",
            "index: 93 54\n",
            "index: 94 55\n",
            "index: 95 55\n",
            "index: 96 56\n",
            "277.77703429938293 161.11168768619285\n",
            "281.4958149357065 174.05898394751642 254.31277501443947\n",
            "\n",
            "60\n",
            "index: 96 56\n",
            "index: 97 56\n",
            "index: 98 57\n",
            "index: 99 57\n",
            "index: 100 57\n",
            "index: 101 58\n",
            "index: 102 58\n",
            "index: 103 59\n",
            "index: 104 59\n",
            "index: 105 60\n",
            "index: 106 60\n",
            "index: 107 61\n",
            "index: 108 61\n",
            "index: 109 62\n",
            "index: 110 62\n",
            "index: 111 63\n",
            "index: 112 63\n",
            "index: 113 64\n",
            "279.6256336256688 138.57093246994316\n",
            "\n",
            "70\n",
            "index: 117 66\n",
            "index: 118 66\n",
            "index: 119 67\n",
            "index: 120 67\n",
            "index: 121 68\n",
            "index: 122 68\n",
            "index: 123 69\n",
            "index: 124 69\n",
            "index: 125 70\n",
            "index: 126 70\n",
            "index: 127 70\n",
            "index: 128 71\n",
            "index: 129 71\n",
            "index: 130 72\n",
            "index: 131 72\n",
            "index: 132 73\n",
            "index: 133 73\n",
            "index: 134 74\n",
            "275.6324025907405 179.71408116678322\n",
            "\n",
            "78\n",
            "index: 134 74\n",
            "index: 135 74\n",
            "index: 136 75\n",
            "index: 137 75\n",
            "index: 138 76\n",
            "index: 139 76\n",
            "index: 140 77\n",
            "index: 141 77\n",
            "index: 142 78\n",
            "index: 143 78\n",
            "index: 144 79\n",
            "index: 145 79\n",
            "index: 146 79\n",
            "index: 147 80\n",
            "index: 148 81\n",
            "index: 149 81\n",
            "index: 150 82\n",
            "273.039394037269 256.2731850471942\n",
            "272.79278350711337 158.56605262607917 251.21978878511067\n",
            "\n",
            "88\n",
            "index: 155 84\n",
            "index: 156 84\n",
            "index: 157 85\n",
            "index: 158 85\n",
            "index: 159 86\n",
            "index: 160 86\n",
            "index: 161 87\n",
            "index: 162 87\n",
            "index: 163 87\n",
            "index: 164 88\n",
            "index: 165 89\n",
            "index: 166 89\n",
            "index: 167 90\n",
            "index: 168 90\n",
            "index: 169 91\n",
            "index: 170 91\n",
            "index: 171 91\n",
            "index: 172 92\n",
            "273.83811149151876 132.74738593787998\n",
            "\n",
            "104\n",
            "index: 188 100\n",
            "index: 189 100\n",
            "index: 190 101\n",
            "index: 191 101\n",
            "index: 192 101\n",
            "index: 193 102\n",
            "index: 194 102\n",
            "index: 195 103\n",
            "index: 196 103\n",
            "index: 197 104\n",
            "index: 198 104\n",
            "index: 199 105\n",
            "index: 200 105\n",
            "index: 201 106\n",
            "index: 202 106\n",
            "index: 203 107\n",
            "index: 204 107\n",
            "index: 205 108\n",
            "279.2059516164579 260.36224365234375\n",
            "308.4179473758208 283.52336957760826 305.8267200039519\n",
            "\n"
          ]
        }
      ]
    },
    {
      "cell_type": "code",
      "source": [
        "response.append(response.count(True)/len(response)*100)\n",
        "print(response)"
      ],
      "metadata": {
        "colab": {
          "base_uri": "https://localhost:8080/"
        },
        "id": "NH63v-zuU_tz",
        "outputId": "afcfb4bb-ce65-4d8c-fc4a-e52c57fd7935"
      },
      "execution_count": 16,
      "outputs": [
        {
          "output_type": "stream",
          "name": "stdout",
          "text": [
            "[True, True, True, True, True, True, 100.0]\n"
          ]
        }
      ]
    }
  ]
}