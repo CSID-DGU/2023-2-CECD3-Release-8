{
  "nbformat": 4,
  "nbformat_minor": 0,
  "metadata": {
    "colab": {
      "provenance": [],
      "authorship_tag": "ABX9TyMGYdKPpeJ1ODnL1juKReiH",
      "include_colab_link": true
    },
    "kernelspec": {
      "name": "python3",
      "display_name": "Python 3"
    },
    "language_info": {
      "name": "python"
    }
  },
  "cells": [
    {
      "cell_type": "markdown",
      "metadata": {
        "id": "view-in-github",
        "colab_type": "text"
      },
      "source": [
        "<a href=\"https://colab.research.google.com/github/doSeung11/2023-2-CECD3-Release-8/blob/main/motion.ipynb\" target=\"_parent\"><img src=\"https://colab.research.google.com/assets/colab-badge.svg\" alt=\"Open In Colab\"/></a>"
      ]
    },
    {
      "cell_type": "code",
      "execution_count": null,
      "metadata": {
        "id": "82FRdFMfirn2"
      },
      "outputs": [],
      "source": [
        "!sudo pip install librosa"
      ]
    },
    {
      "cell_type": "code",
      "source": [
        "import numpy as np\n",
        "import librosa.display, librosa\n",
        "times = []\n",
        "end_time = 0\n",
        "def checkSound():\n",
        "    global end_time\n",
        "    file = '휘모리휘모리4.wav'\n",
        "    y, sr = librosa.load(file)\n",
        "\n",
        "    onset_env = librosa.onset.onset_strength(y=y, sr=sr,\n",
        "                                            hop_length=512,\n",
        "                                            aggregate=np.median)\n",
        "    peaks = librosa.util.peak_pick(onset_env, pre_max=1, post_max=3, pre_avg=5, post_avg=5, delta=5, wait=1)\n",
        "    Time = librosa.times_like(onset_env, sr=sr, hop_length=512)\n",
        "    end_time = int(round(Time[-1],1)*10)\n",
        "\n",
        "    for p in peaks:\n",
        "      times.append(round(Time[p], 1))\n",
        "    print(times)\n",
        "\n",
        "    ret = {\n",
        "        \"peaks\": peaks\n",
        "    }\n",
        "    return ret\n",
        "\n",
        "tmp = checkSound()\n",
        "print(tmp)\n",
        "print(end_time)"
      ],
      "metadata": {
        "colab": {
          "base_uri": "https://localhost:8080/"
        },
        "id": "H8iU5v--8qvD",
        "outputId": "7f3c25a9-ff81-41ba-da96-31e9d4a225be"
      },
      "execution_count": 58,
      "outputs": [
        {
          "output_type": "stream",
          "name": "stdout",
          "text": [
            "[4.1, 5.2, 6.0, 7.0, 7.9, 9.0, 10.2, 11.0]\n",
            "{'peaks': array([175, 226, 260, 303, 342, 387, 439, 474])}\n",
            "111\n"
          ]
        }
      ]
    },
    {
      "cell_type": "code",
      "source": [
        "times = [int(times[i]*10) for i in range(len(times))]\n",
        "print(times)"
      ],
      "metadata": {
        "colab": {
          "base_uri": "https://localhost:8080/"
        },
        "id": "sc8e5tCjZr2M",
        "outputId": "595a0f51-fd25-448a-fe9d-f29367eef8b6"
      },
      "execution_count": 59,
      "outputs": [
        {
          "output_type": "stream",
          "name": "stdout",
          "text": [
            "[41, 52, 60, 70, 79, 90, 102, 110]\n"
          ]
        }
      ]
    },
    {
      "cell_type": "code",
      "source": [
        "import json\n",
        "count = 0\n",
        "with open('휘모리휘모리4.json') as file:\n",
        "  datas = json.load(file)\n",
        "  for data in datas:\n",
        "    count = count+1\n",
        "\n",
        "print(count)"
      ],
      "metadata": {
        "colab": {
          "base_uri": "https://localhost:8080/"
        },
        "id": "AKZbXm2Rmusv",
        "outputId": "02435407-610b-4fc1-ffe5-2a9d04117192"
      },
      "execution_count": 52,
      "outputs": [
        {
          "output_type": "stream",
          "name": "stdout",
          "text": [
            "231\n"
          ]
        }
      ]
    },
    {
      "cell_type": "code",
      "source": [
        "import json\n",
        "\n",
        "p_time = []\n",
        "le = []\n",
        "lw = []\n",
        "re = []\n",
        "rw = []\n",
        "\n",
        "with open('휘모리휘모리4.json') as file:\n",
        "  datas = json.load(file)  # datas[0]이 전체 좌표값\n",
        "\n",
        "  for i, data in enumerate(datas):  #없으면 전 값 그대로 채우기\n",
        "\n",
        "    p_time.append(int(data[0]['time']//100))\n",
        "\n",
        "    if 'le' in data[0].keys() : le.append(data[0]['le']['y'])\n",
        "    else :\n",
        "      if i==0 : le.append(435)\n",
        "      else : le.append(le[-1])\n",
        "\n",
        "    if 'lw' in data[0].keys() : lw.append(data[0]['lw']['y'])\n",
        "    else :\n",
        "      if i==0 : lw.append(515)\n",
        "      else : lw.append(lw[-1])\n",
        "\n",
        "    if 're' in data[0].keys() : re.append(data[0]['re']['y'])\n",
        "    else :\n",
        "      if i==0: re.append(470)\n",
        "      else : re.append(re[-1])\n",
        "\n",
        "    if 'rw' in data[0].keys() : rw.append(data[0]['rw']['y'])\n",
        "    else :\n",
        "      if i==0 : rw.append(515)\n",
        "      else : rw.append(rw[-1])\n",
        "\n",
        "print(p_time)\n",
        "\n",
        "com_time = p_time[-1] - end_time\n",
        "print(end_time)\n",
        "print(com_time)\n",
        "\n",
        "while True:\n",
        "  if p_time[0] <= com_time:\n",
        "    p_time.pop(0)\n",
        "    le.pop(0)\n",
        "    lw.pop(0)\n",
        "    re.pop(0)\n",
        "    rw.pop(0)\n",
        "  else:\n",
        "    break\n",
        "\n",
        "print(p_time)\n",
        "print(len(le), len(lw), len(re), len(rw))"
      ],
      "metadata": {
        "colab": {
          "base_uri": "https://localhost:8080/"
        },
        "id": "-mmQZYBV81JC",
        "outputId": "9f70fc78-d49f-4257-92d0-53610fbbf7e3"
      },
      "execution_count": 53,
      "outputs": [
        {
          "output_type": "stream",
          "name": "stdout",
          "text": [
            "[0, 0, 1, 1, 2, 2, 3, 3, 4, 9, 9, 10, 10, 11, 12, 12, 13, 13, 14, 15, 15, 16, 16, 17, 17, 18, 18, 19, 20, 20, 21, 21, 22, 22, 23, 23, 24, 24, 25, 26, 26, 26, 27, 27, 28, 28, 29, 29, 30, 30, 31, 31, 32, 32, 33, 33, 34, 34, 35, 36, 36, 37, 37, 38, 38, 39, 39, 40, 40, 41, 41, 42, 42, 43, 43, 43, 44, 45, 45, 46, 46, 47, 47, 48, 48, 49, 49, 50, 50, 51, 51, 52, 52, 53, 53, 54, 54, 55, 55, 56, 56, 57, 57, 58, 58, 59, 59, 60, 60, 60, 61, 61, 62, 62, 63, 63, 64, 64, 65, 65, 66, 66, 67, 67, 68, 68, 69, 69, 70, 70, 71, 71, 72, 72, 73, 73, 74, 74, 75, 75, 76, 76, 77, 77, 78, 78, 79, 79, 80, 81, 81, 82, 82, 83, 83, 84, 84, 85, 85, 86, 86, 87, 87, 88, 88, 89, 90, 90, 90, 91, 91, 92, 92, 93, 93, 94, 94, 95, 95, 96, 96, 97, 97, 98, 98, 99, 99, 100, 100, 101, 101, 102, 102, 103, 103, 103, 104, 105, 105, 105, 106, 106, 107, 107, 108, 108, 109, 109, 110, 110, 111, 111, 112, 112, 113, 113, 114, 114, 115, 115, 116, 116, 117, 117, 118, 118, 119, 119, 120, 120, 121]\n",
            "111\n",
            "10\n",
            "[11, 12, 12, 13, 13, 14, 15, 15, 16, 16, 17, 17, 18, 18, 19, 20, 20, 21, 21, 22, 22, 23, 23, 24, 24, 25, 26, 26, 26, 27, 27, 28, 28, 29, 29, 30, 30, 31, 31, 32, 32, 33, 33, 34, 34, 35, 36, 36, 37, 37, 38, 38, 39, 39, 40, 40, 41, 41, 42, 42, 43, 43, 43, 44, 45, 45, 46, 46, 47, 47, 48, 48, 49, 49, 50, 50, 51, 51, 52, 52, 53, 53, 54, 54, 55, 55, 56, 56, 57, 57, 58, 58, 59, 59, 60, 60, 60, 61, 61, 62, 62, 63, 63, 64, 64, 65, 65, 66, 66, 67, 67, 68, 68, 69, 69, 70, 70, 71, 71, 72, 72, 73, 73, 74, 74, 75, 75, 76, 76, 77, 77, 78, 78, 79, 79, 80, 81, 81, 82, 82, 83, 83, 84, 84, 85, 85, 86, 86, 87, 87, 88, 88, 89, 90, 90, 90, 91, 91, 92, 92, 93, 93, 94, 94, 95, 95, 96, 96, 97, 97, 98, 98, 99, 99, 100, 100, 101, 101, 102, 102, 103, 103, 103, 104, 105, 105, 105, 106, 106, 107, 107, 108, 108, 109, 109, 110, 110, 111, 111, 112, 112, 113, 113, 114, 114, 115, 115, 116, 116, 117, 117, 118, 118, 119, 119, 120, 120, 121]\n",
            "218 218 218 218\n"
          ]
        }
      ]
    },
    {
      "cell_type": "code",
      "source": [
        "jangdan_num = 2\n",
        "jangdan = ['덩','덕','덕','쿵','덕','쿵']\n",
        "if jangdan_num == 0 : jangdan = ['덩', '덩', '덕', '쿵', '덕']  #세마치\n",
        "elif jangdan_num == 1 : jangdan = ['덩', '덕', '쿵', '덕', '덕', '쿵', '쿵', '덕', '쿵', '쿵']  #중중모리\n",
        "elif jangdan_num == 2 : jangdan = ['덩', '덕', '덕', '쿵', '덕', '쿵']  #휘모리\n",
        "elif jangdan_num == 3 : jangdan = ['덩', '덕', '쿵', '덕', '쿵', '덩', '덕', '쿵', '덕', '쿵']  #굿거리\n",
        "elif jangdan_num == 4 : jangdan = ['덩', '덕', '쿵', '덕', '쿵', '덕', '쿵', '덕']  #자진모리\n"
      ],
      "metadata": {
        "id": "2Qu3Jq3r16RR"
      },
      "execution_count": 54,
      "outputs": []
    },
    {
      "cell_type": "code",
      "source": [
        "cnt = -1\n",
        "print(jangdan)\n",
        "i = 0\n",
        "for idx, time in enumerate(times):\n",
        "  if idx >= len(jangdan) : break\n",
        "\n",
        "  print(time)\n",
        "  le_max, lw_max, re_max, rw_max = 0, 0, 0, 0\n",
        "  le_min, lw_min, re_min, rw_min = 1000, 1000, 1000, 1000\n",
        "  cnt = cnt+1\n",
        "  check = True  #덕 체크\n",
        "\n",
        "  while True:\n",
        "    while True:\n",
        "      if p_time[i] < time-5:\n",
        "        i = i+1\n",
        "      else: break\n",
        "\n",
        "    print('index: '+str(i)+' '+str(p_time[i]))\n",
        "\n",
        "    if p_time[i] >= time-5 and p_time[i] <= time+5:\n",
        "      if le_max < le[i] : le_max = le[i] #왼쪽 팔꿈치\n",
        "      if le_min > le[i] : le_min = le[i]\n",
        "      if lw_max < lw[i] : lw_max = lw[i] #왼쪽 팔목\n",
        "      if lw_min > lw[i] : lw_min = lw[i]\n",
        "      if re_max < re[i] : re_max = re[i] #오른쪽 팔꿈치\n",
        "      if re_min > re[i] : re_min = re[i]\n",
        "      if rw_max < rw[i] : rw_max = rw[i] #오른쪽 팔목\n",
        "      if rw_min > rw[i] : rw_min = rw[i]\n",
        "      if rw[i] < re[i] : check = False  #덕 체크\n",
        "      i = i+1\n",
        "    else: break\n",
        "\n",
        "  if jangdan[cnt] == '쿵':\n",
        "    print(lw_max, lw_min, le_min)\n",
        "    if (lw_max - lw_min) > (lw_max - le_min) : print(cnt, '쿵', True)\n",
        "  elif jangdan[cnt] == '덕':\n",
        "    if check : print(cnt, '덕', True)\n",
        "  elif jangdan[cnt] == '덩':\n",
        "    print(lw_max, lw_min, le_min)\n",
        "    if (lw_max - lw_min) > (lw_max - le_min) and check : print(cnt, '덩', True)\n",
        "  print()"
      ],
      "metadata": {
        "colab": {
          "base_uri": "https://localhost:8080/"
        },
        "id": "nrCP8hfqOS29",
        "outputId": "23c2e6f7-84c8-4985-e3e7-970092c0851d"
      },
      "execution_count": 55,
      "outputs": [
        {
          "output_type": "stream",
          "name": "stdout",
          "text": [
            "['덩', '덕', '덕', '쿵', '덕', '쿵']\n",
            "41\n",
            "index: 46 36\n",
            "index: 47 36\n",
            "index: 48 37\n",
            "index: 49 37\n",
            "index: 50 38\n",
            "index: 51 38\n",
            "index: 52 39\n",
            "index: 53 39\n",
            "index: 54 40\n",
            "index: 55 40\n",
            "index: 56 41\n",
            "index: 57 41\n",
            "index: 58 42\n",
            "index: 59 42\n",
            "index: 60 43\n",
            "index: 61 43\n",
            "index: 62 43\n",
            "index: 63 44\n",
            "index: 64 45\n",
            "index: 65 45\n",
            "index: 66 46\n",
            "index: 67 46\n",
            "index: 68 47\n",
            "251.1140222215467 121.51795621048151 209.67794930424674\n",
            "0 덩 True\n",
            "\n",
            "52\n",
            "index: 68 47\n",
            "index: 69 47\n",
            "index: 70 48\n",
            "index: 71 48\n",
            "index: 72 49\n",
            "index: 73 49\n",
            "index: 74 50\n",
            "index: 75 50\n",
            "index: 76 51\n",
            "index: 77 51\n",
            "index: 78 52\n",
            "index: 79 52\n",
            "index: 80 53\n",
            "index: 81 53\n",
            "index: 82 54\n",
            "index: 83 54\n",
            "index: 84 55\n",
            "index: 85 55\n",
            "index: 86 56\n",
            "index: 87 56\n",
            "index: 88 57\n",
            "index: 89 57\n",
            "index: 90 58\n",
            "1 덕 True\n",
            "\n",
            "60\n",
            "index: 90 58\n",
            "index: 91 58\n",
            "index: 92 59\n",
            "index: 93 59\n",
            "index: 94 60\n",
            "index: 95 60\n",
            "index: 96 60\n",
            "index: 97 61\n",
            "index: 98 61\n",
            "index: 99 62\n",
            "index: 100 62\n",
            "index: 101 63\n",
            "index: 102 63\n",
            "index: 103 64\n",
            "index: 104 64\n",
            "index: 105 65\n",
            "index: 106 65\n",
            "index: 107 66\n",
            "2 덕 True\n",
            "\n",
            "70\n",
            "index: 107 66\n",
            "index: 108 66\n",
            "index: 109 67\n",
            "index: 110 67\n",
            "index: 111 68\n",
            "index: 112 68\n",
            "index: 113 69\n",
            "index: 114 69\n",
            "index: 115 70\n",
            "index: 116 70\n",
            "index: 117 71\n",
            "index: 118 71\n",
            "index: 119 72\n",
            "index: 120 72\n",
            "index: 121 73\n",
            "index: 122 73\n",
            "index: 123 74\n",
            "index: 124 74\n",
            "index: 125 75\n",
            "index: 126 75\n",
            "index: 127 76\n",
            "249.49770678805936 236.3707724248389 287.8489690995866\n",
            "3 쿵 True\n",
            "\n",
            "79\n",
            "index: 127 76\n",
            "index: 128 76\n",
            "index: 129 77\n",
            "index: 130 77\n",
            "index: 131 78\n",
            "index: 132 78\n",
            "index: 133 79\n",
            "index: 134 79\n",
            "index: 135 80\n",
            "index: 136 81\n",
            "index: 137 81\n",
            "index: 138 82\n",
            "index: 139 82\n",
            "index: 140 83\n",
            "index: 141 83\n",
            "index: 142 84\n",
            "index: 143 84\n",
            "index: 144 85\n",
            "4 덕 True\n",
            "\n",
            "90\n",
            "index: 144 85\n",
            "index: 145 85\n",
            "index: 146 86\n",
            "index: 147 86\n",
            "index: 148 87\n",
            "index: 149 87\n",
            "index: 150 88\n",
            "index: 151 88\n",
            "index: 152 89\n",
            "index: 153 90\n",
            "index: 154 90\n",
            "index: 155 90\n",
            "index: 156 91\n",
            "index: 157 91\n",
            "index: 158 92\n",
            "index: 159 92\n",
            "index: 160 93\n",
            "index: 161 93\n",
            "index: 162 94\n",
            "index: 163 94\n",
            "index: 164 95\n",
            "index: 165 95\n",
            "index: 166 96\n",
            "265.27787145473616 175.43448362832868 233.27637906204404\n",
            "5 쿵 True\n",
            "\n"
          ]
        }
      ]
    }
  ]
}