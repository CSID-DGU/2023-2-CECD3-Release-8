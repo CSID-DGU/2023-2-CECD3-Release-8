{
  "nbformat": 4,
  "nbformat_minor": 0,
  "metadata": {
    "colab": {
      "provenance": [],
      "authorship_tag": "ABX9TyOShfK8mjccFntCAY0Q8wvr",
      "include_colab_link": true
    },
    "kernelspec": {
      "name": "python3",
      "display_name": "Python 3"
    },
    "language_info": {
      "name": "python"
    }
  },
  "cells": [
    {
      "cell_type": "markdown",
      "metadata": {
        "id": "view-in-github",
        "colab_type": "text"
      },
      "source": [
        "<a href=\"https://colab.research.google.com/github/doSeung11/2023-2-CECD3-Release-8/blob/main/motion.ipynb\" target=\"_parent\"><img src=\"https://colab.research.google.com/assets/colab-badge.svg\" alt=\"Open In Colab\"/></a>"
      ]
    },
    {
      "cell_type": "code",
      "execution_count": null,
      "metadata": {
        "id": "82FRdFMfirn2"
      },
      "outputs": [],
      "source": [
        "!sudo pip install librosa"
      ]
    },
    {
      "cell_type": "code",
      "source": [
        "import numpy as np\n",
        "import librosa.display, librosa\n",
        "times = []\n",
        "end_time = 0\n",
        "def checkSound():\n",
        "    global end_time\n",
        "    file = '굿거리.wav'\n",
        "    y, sr = librosa.load(file)\n",
        "\n",
        "    onset_env = librosa.onset.onset_strength(y=y, sr=sr,\n",
        "                                            hop_length=512,\n",
        "                                            aggregate=np.median)\n",
        "    peaks = librosa.util.peak_pick(onset_env, pre_max=10, post_max=10, pre_avg=10, post_avg=10, delta=10, wait=5)\n",
        "    peaks = [peak for peak in peaks if peak*0.02205 > 4]\n",
        "    Time = librosa.times_like(onset_env, sr=sr, hop_length=512)\n",
        "    end_time = int(round(Time[-1],1)*10)\n",
        "\n",
        "    for p in peaks:\n",
        "      times.append(round(Time[p], 1))\n",
        "    print(times)\n",
        "\n",
        "    ret = {\n",
        "        \"peaks\": peaks\n",
        "    }\n",
        "    return ret\n",
        "\n",
        "tmp = checkSound()\n",
        "print(tmp)\n",
        "print(end_time)"
      ],
      "metadata": {
        "colab": {
          "base_uri": "https://localhost:8080/"
        },
        "id": "H8iU5v--8qvD",
        "outputId": "28ca32b3-7d68-42ab-e71e-a04562b898c2"
      },
      "execution_count": 1,
      "outputs": [
        {
          "output_type": "stream",
          "name": "stdout",
          "text": [
            "[5.8, 6.4, 6.8, 7.2, 7.6, 8.1, 8.8, 9.1, 9.5, 9.9]\n",
            "{'peaks': [249, 277, 293, 308, 327, 348, 378, 392, 408, 426]}\n",
            "204\n"
          ]
        }
      ]
    },
    {
      "cell_type": "code",
      "source": [
        "times = [int(times[i]*10) for i in range(len(times))]\n",
        "print(times)"
      ],
      "metadata": {
        "colab": {
          "base_uri": "https://localhost:8080/"
        },
        "id": "sc8e5tCjZr2M",
        "outputId": "b5f87dc6-6934-40e9-b0af-6ef47e92f34d"
      },
      "execution_count": 2,
      "outputs": [
        {
          "output_type": "stream",
          "name": "stdout",
          "text": [
            "[58, 64, 68, 72, 76, 81, 88, 91, 95, 99]\n"
          ]
        }
      ]
    },
    {
      "cell_type": "code",
      "source": [
        "import json\n",
        "count = 0\n",
        "with open('굿거리.json') as file:\n",
        "  datas = json.load(file)\n",
        "  for data in datas:\n",
        "    count = count+1\n",
        "\n",
        "print(count)"
      ],
      "metadata": {
        "colab": {
          "base_uri": "https://localhost:8080/"
        },
        "id": "AKZbXm2Rmusv",
        "outputId": "80024c9e-d169-484f-a6bd-32b270870af8"
      },
      "execution_count": 3,
      "outputs": [
        {
          "output_type": "stream",
          "name": "stdout",
          "text": [
            "433\n"
          ]
        }
      ]
    },
    {
      "cell_type": "code",
      "source": [
        "import json\n",
        "\n",
        "p_time = []\n",
        "le = []\n",
        "lw = []\n",
        "re = []\n",
        "rw = []\n",
        "\n",
        "with open('굿거리.json') as file:\n",
        "  datas = json.load(file)  # datas[0]이 전체 좌표값\n",
        "\n",
        "  for i, data in enumerate(datas):  #없으면 전 값 그대로 채우기\n",
        "\n",
        "    p_time.append(int(data[0]['time']//100))\n",
        "\n",
        "    if 'le' in data[0].keys() : le.append(data[0]['le']['y'])\n",
        "    else :\n",
        "      if i==0 : le.append(435)\n",
        "      else : le.append(le[-1])\n",
        "\n",
        "    if 'lw' in data[0].keys() : lw.append(data[0]['lw']['y'])\n",
        "    else :\n",
        "      if i==0 : lw.append(515)\n",
        "      else : lw.append(lw[-1])\n",
        "\n",
        "    if 're' in data[0].keys() : re.append(data[0]['re']['y'])\n",
        "    else :\n",
        "      if i==0: re.append(470)\n",
        "      else : re.append(re[-1])\n",
        "\n",
        "    if 'rw' in data[0].keys() : rw.append(data[0]['rw']['y'])\n",
        "    else :\n",
        "      if i==0 : rw.append(515)\n",
        "      else : rw.append(rw[-1])\n",
        "\n",
        "print(p_time)\n",
        "\n",
        "com_time = p_time[-1] - end_time\n",
        "print(end_time)\n",
        "print(com_time)\n",
        "\n",
        "while True:\n",
        "  if p_time[0] <= com_time:\n",
        "    p_time.pop(0)\n",
        "    le.pop(0)\n",
        "    lw.pop(0)\n",
        "    re.pop(0)\n",
        "    rw.pop(0)\n",
        "  else:\n",
        "    break\n",
        "\n",
        "print(p_time)\n",
        "print(len(le), len(lw), len(re), len(rw))"
      ],
      "metadata": {
        "colab": {
          "base_uri": "https://localhost:8080/"
        },
        "id": "-mmQZYBV81JC",
        "outputId": "f1d37c06-4021-49b2-f146-0a64f66604a5"
      },
      "execution_count": 4,
      "outputs": [
        {
          "output_type": "stream",
          "name": "stdout",
          "text": [
            "[0, 0, 1, 1, 2, 2, 2, 3, 4, 4, 5, 5, 10, 11, 11, 11, 12, 12, 13, 13, 14, 14, 15, 15, 15, 16, 17, 17, 18, 18, 19, 19, 20, 20, 20, 21, 21, 22, 22, 23, 23, 24, 24, 25, 25, 25, 26, 26, 27, 27, 28, 28, 29, 29, 30, 30, 31, 31, 31, 32, 32, 33, 33, 34, 34, 35, 35, 35, 36, 36, 37, 37, 38, 39, 39, 40, 40, 41, 41, 41, 42, 42, 43, 44, 44, 45, 45, 46, 46, 46, 47, 47, 48, 48, 49, 49, 50, 50, 51, 51, 52, 52, 53, 53, 53, 54, 54, 55, 56, 56, 57, 57, 57, 58, 58, 59, 59, 60, 60, 61, 61, 62, 62, 63, 64, 64, 65, 65, 65, 66, 66, 67, 67, 68, 69, 69, 70, 70, 71, 71, 72, 72, 72, 73, 73, 74, 75, 75, 76, 76, 77, 77, 78, 78, 78, 79, 79, 80, 80, 81, 81, 82, 82, 83, 84, 84, 84, 85, 85, 86, 86, 87, 87, 87, 88, 88, 89, 89, 90, 90, 91, 91, 92, 92, 93, 93, 94, 94, 95, 95, 96, 96, 97, 97, 98, 98, 98, 99, 99, 100, 100, 101, 101, 102, 102, 103, 103, 104, 104, 105, 105, 106, 106, 106, 107, 107, 108, 108, 108, 109, 109, 110, 111, 111, 112, 112, 113, 113, 113, 114, 115, 115, 115, 116, 116, 117, 117, 118, 118, 118, 119, 120, 120, 121, 121, 121, 122, 122, 123, 123, 124, 124, 125, 126, 126, 127, 127, 127, 128, 128, 129, 129, 130, 130, 130, 131, 131, 132, 132, 133, 133, 134, 134, 135, 135, 136, 136, 137, 137, 138, 138, 138, 139, 139, 140, 141, 141, 141, 142, 142, 143, 143, 144, 144, 145, 145, 146, 146, 147, 147, 148, 148, 149, 149, 149, 150, 150, 151, 151, 152, 152, 153, 153, 154, 154, 154, 155, 155, 156, 157, 157, 157, 158, 158, 159, 160, 160, 161, 161, 162, 162, 163, 163, 163, 164, 165, 165, 166, 166, 167, 167, 168, 168, 169, 169, 170, 170, 171, 172, 172, 173, 173, 174, 174, 174, 175, 176, 176, 177, 177, 178, 178, 179, 179, 180, 180, 181, 181, 182, 183, 183, 184, 184, 185, 185, 186, 186, 186, 187, 188, 188, 189, 189, 190, 190, 191, 191, 191, 192, 193, 194, 195, 195, 195, 196, 196, 197, 198, 198, 199, 199, 199, 200, 200, 201, 202, 203, 203, 203, 204, 204, 205, 205, 206, 206, 207, 207, 208, 209, 209, 209, 210, 210, 211, 211, 212, 212, 213, 213, 214, 214, 215, 215]\n",
            "204\n",
            "11\n",
            "[12, 12, 13, 13, 14, 14, 15, 15, 15, 16, 17, 17, 18, 18, 19, 19, 20, 20, 20, 21, 21, 22, 22, 23, 23, 24, 24, 25, 25, 25, 26, 26, 27, 27, 28, 28, 29, 29, 30, 30, 31, 31, 31, 32, 32, 33, 33, 34, 34, 35, 35, 35, 36, 36, 37, 37, 38, 39, 39, 40, 40, 41, 41, 41, 42, 42, 43, 44, 44, 45, 45, 46, 46, 46, 47, 47, 48, 48, 49, 49, 50, 50, 51, 51, 52, 52, 53, 53, 53, 54, 54, 55, 56, 56, 57, 57, 57, 58, 58, 59, 59, 60, 60, 61, 61, 62, 62, 63, 64, 64, 65, 65, 65, 66, 66, 67, 67, 68, 69, 69, 70, 70, 71, 71, 72, 72, 72, 73, 73, 74, 75, 75, 76, 76, 77, 77, 78, 78, 78, 79, 79, 80, 80, 81, 81, 82, 82, 83, 84, 84, 84, 85, 85, 86, 86, 87, 87, 87, 88, 88, 89, 89, 90, 90, 91, 91, 92, 92, 93, 93, 94, 94, 95, 95, 96, 96, 97, 97, 98, 98, 98, 99, 99, 100, 100, 101, 101, 102, 102, 103, 103, 104, 104, 105, 105, 106, 106, 106, 107, 107, 108, 108, 108, 109, 109, 110, 111, 111, 112, 112, 113, 113, 113, 114, 115, 115, 115, 116, 116, 117, 117, 118, 118, 118, 119, 120, 120, 121, 121, 121, 122, 122, 123, 123, 124, 124, 125, 126, 126, 127, 127, 127, 128, 128, 129, 129, 130, 130, 130, 131, 131, 132, 132, 133, 133, 134, 134, 135, 135, 136, 136, 137, 137, 138, 138, 138, 139, 139, 140, 141, 141, 141, 142, 142, 143, 143, 144, 144, 145, 145, 146, 146, 147, 147, 148, 148, 149, 149, 149, 150, 150, 151, 151, 152, 152, 153, 153, 154, 154, 154, 155, 155, 156, 157, 157, 157, 158, 158, 159, 160, 160, 161, 161, 162, 162, 163, 163, 163, 164, 165, 165, 166, 166, 167, 167, 168, 168, 169, 169, 170, 170, 171, 172, 172, 173, 173, 174, 174, 174, 175, 176, 176, 177, 177, 178, 178, 179, 179, 180, 180, 181, 181, 182, 183, 183, 184, 184, 185, 185, 186, 186, 186, 187, 188, 188, 189, 189, 190, 190, 191, 191, 191, 192, 193, 194, 195, 195, 195, 196, 196, 197, 198, 198, 199, 199, 199, 200, 200, 201, 202, 203, 203, 203, 204, 204, 205, 205, 206, 206, 207, 207, 208, 209, 209, 209, 210, 210, 211, 211, 212, 212, 213, 213, 214, 214, 215, 215]\n",
            "417 417 417 417\n"
          ]
        }
      ]
    },
    {
      "cell_type": "code",
      "source": [
        "jangdan_num = 3\n",
        "jangdan = ['덩','덕','덕','쿵','덕','쿵']\n",
        "if jangdan_num == 0 : jangdan = ['덩', '덩', '덕', '쿵', '덕']  #세마치\n",
        "elif jangdan_num == 1 : jangdan = ['덩', '덕', '쿵', '덕', '덕', '쿵', '쿵', '덕', '쿵', '쿵']  #중중모리\n",
        "elif jangdan_num == 2 : jangdan = ['덩', '덕', '덕', '쿵', '덕', '쿵']  #휘모리\n",
        "elif jangdan_num == 3 : jangdan = ['덩', '덕', '쿵', '덕', '쿵', '덩', '덕', '쿵', '덕', '쿵']  #굿거리\n",
        "elif jangdan_num == 4 : jangdan = ['덩', '덕', '쿵', '덕', '쿵', '덕', '쿵', '덕']  #자진모리\n"
      ],
      "metadata": {
        "id": "2Qu3Jq3r16RR"
      },
      "execution_count": 5,
      "outputs": []
    },
    {
      "cell_type": "code",
      "source": [
        "cnt = -1\n",
        "print(jangdan)\n",
        "i = 0\n",
        "for idx, time in enumerate(times):\n",
        "  if idx >= len(jangdan) : break  #피크 타임들에서 장단 개수 넘어갈 때부터는 패스\n",
        "\n",
        "  print(time)\n",
        "  le_max, lw_max, re_max, rw_max = 0, 0, 0, 0\n",
        "  le_min, lw_min, re_min, rw_min = 1000, 1000, 1000, 1000\n",
        "  cnt = cnt+1\n",
        "\n",
        "  while True:\n",
        "\n",
        "    while True:\n",
        "      check = True  #덕 체크\n",
        "      if p_time[i] < time-5:  #인덱스값 time 앞으로\n",
        "        i = i+1\n",
        "      else: break\n",
        "\n",
        "    print('index: '+str(i)+' '+str(p_time[i]))\n",
        "\n",
        "    if p_time[i] >= time-5 and p_time[i] < time+5:\n",
        "      if le_max < le[i] : le_max = le[i] #왼쪽 팔꿈치\n",
        "      if le_min > le[i] : le_min = le[i]\n",
        "      if lw_max < lw[i] : lw_max = lw[i] #왼쪽 팔목\n",
        "      if lw_min > lw[i] : lw_min = lw[i]\n",
        "      if re_max < re[i] : re_max = re[i] #오른쪽 팔꿈치\n",
        "      if re_min > re[i] : re_min = re[i]\n",
        "      if rw_max < rw[i] : rw_max = rw[i] #오른쪽 팔목\n",
        "      if rw_min > rw[i] : rw_min = rw[i]\n",
        "      if rw[i] < re[i] : check = False  #덕 체크\n",
        "      i = i+1\n",
        "    else: break\n",
        "\n",
        "  if jangdan[cnt] == '쿵':\n",
        "    print(lw_max, lw_min, le_min)\n",
        "    if (le_min < lw_max) and (le_min > lw_min) : print(cnt, '쿵', True)\n",
        "  elif jangdan[cnt] == '덕':\n",
        "    if check : print(cnt, '덕', True)\n",
        "  elif jangdan[cnt] == '덩':\n",
        "    print(lw_max, lw_min, le_min)\n",
        "    if ((le_min < lw_max) and (le_min > lw_min)) and check : print(cnt, '덩', True)\n",
        "  print()"
      ],
      "metadata": {
        "colab": {
          "base_uri": "https://localhost:8080/"
        },
        "id": "nrCP8hfqOS29",
        "outputId": "af3b13d4-72b6-4676-fe94-71c3b8631168"
      },
      "execution_count": 6,
      "outputs": [
        {
          "output_type": "stream",
          "name": "stdout",
          "text": [
            "['덩', '덕', '쿵', '덕', '쿵', '덩', '덕', '쿵', '덕', '쿵']\n",
            "58\n",
            "index: 86 53\n",
            "index: 87 53\n",
            "index: 88 53\n",
            "index: 89 54\n",
            "index: 90 54\n",
            "index: 91 55\n",
            "index: 92 56\n",
            "index: 93 56\n",
            "index: 94 57\n",
            "index: 95 57\n",
            "index: 96 57\n",
            "index: 97 58\n",
            "index: 98 58\n",
            "index: 99 59\n",
            "index: 100 59\n",
            "index: 101 60\n",
            "index: 102 60\n",
            "index: 103 61\n",
            "index: 104 61\n",
            "index: 105 62\n",
            "index: 106 62\n",
            "index: 107 63\n",
            "311.2476749642814 158.4612835242127 261.1722834843142\n",
            "0 덩 True\n",
            "\n",
            "64\n",
            "index: 107 63\n",
            "index: 108 64\n",
            "index: 109 64\n",
            "index: 110 65\n",
            "index: 111 65\n",
            "index: 112 65\n",
            "index: 113 66\n",
            "index: 114 66\n",
            "index: 115 67\n",
            "index: 116 67\n",
            "index: 117 68\n",
            "index: 118 69\n",
            "1 덕 True\n",
            "\n",
            "68\n",
            "index: 118 69\n",
            "index: 119 69\n",
            "index: 120 70\n",
            "index: 121 70\n",
            "index: 122 71\n",
            "index: 123 71\n",
            "index: 124 72\n",
            "index: 125 72\n",
            "index: 126 72\n",
            "index: 127 73\n",
            "310.8636165871231 157.61604160650234 238.79350001709935\n",
            "2 쿵 True\n",
            "\n",
            "72\n",
            "index: 127 73\n",
            "index: 128 73\n",
            "index: 129 74\n",
            "index: 130 75\n",
            "index: 131 75\n",
            "index: 132 76\n",
            "index: 133 76\n",
            "index: 134 77\n",
            "3 덕 True\n",
            "\n",
            "76\n",
            "index: 134 77\n",
            "index: 135 77\n",
            "index: 136 78\n",
            "index: 137 78\n",
            "index: 138 78\n",
            "index: 139 79\n",
            "index: 140 79\n",
            "index: 141 80\n",
            "index: 142 80\n",
            "index: 143 81\n",
            "264.0649224069796 196.42043651773773 262.47600154654066\n",
            "4 쿵 True\n",
            "\n",
            "81\n",
            "index: 143 81\n",
            "index: 144 81\n",
            "index: 145 82\n",
            "index: 146 82\n",
            "index: 147 83\n",
            "index: 148 84\n",
            "index: 149 84\n",
            "index: 150 84\n",
            "index: 151 85\n",
            "index: 152 85\n",
            "index: 153 86\n",
            "314.55158871899323 166.57559880950572 264.9881088316209\n",
            "5 덩 True\n",
            "\n",
            "88\n",
            "index: 153 86\n",
            "index: 154 86\n",
            "index: 155 87\n",
            "index: 156 87\n",
            "index: 157 87\n",
            "index: 158 88\n",
            "index: 159 88\n",
            "index: 160 89\n",
            "index: 161 89\n",
            "index: 162 90\n",
            "index: 163 90\n",
            "index: 164 91\n",
            "index: 165 91\n",
            "index: 166 92\n",
            "index: 167 92\n",
            "index: 168 93\n",
            "6 덕 True\n",
            "\n",
            "91\n",
            "index: 168 93\n",
            "index: 169 93\n",
            "index: 170 94\n",
            "index: 171 94\n",
            "index: 172 95\n",
            "index: 173 95\n",
            "index: 174 96\n",
            "318.29990728356034 180.501286250608 291.9798854723979\n",
            "7 쿵 True\n",
            "\n",
            "95\n",
            "index: 174 96\n",
            "index: 175 96\n",
            "index: 176 97\n",
            "index: 177 97\n",
            "index: 178 98\n",
            "index: 179 98\n",
            "index: 180 98\n",
            "index: 181 99\n",
            "index: 182 99\n",
            "index: 183 100\n",
            "8 덕 True\n",
            "\n",
            "99\n",
            "index: 183 100\n",
            "index: 184 100\n",
            "index: 185 101\n",
            "index: 186 101\n",
            "index: 187 102\n",
            "index: 188 102\n",
            "index: 189 103\n",
            "index: 190 103\n",
            "index: 191 104\n",
            "288.3426057689385 178.79233156196804 275.0357542520367\n",
            "9 쿵 True\n",
            "\n"
          ]
        }
      ]
    }
  ]
}